{
  "nbformat": 4,
  "nbformat_minor": 0,
  "metadata": {
    "colab": {
      "provenance": [],
      "include_colab_link": true
    },
    "kernelspec": {
      "name": "python3",
      "display_name": "Python 3"
    },
    "language_info": {
      "name": "python"
    }
  },
  "cells": [
    {
      "cell_type": "markdown",
      "metadata": {
        "id": "view-in-github",
        "colab_type": "text"
      },
      "source": [
        "<a href=\"https://colab.research.google.com/github/jamartinezv2020/teac/blob/main/01_Proyecto_Final_Churn.ipynb\" target=\"_parent\"><img src=\"https://colab.research.google.com/assets/colab-badge.svg\" alt=\"Open In Colab\"/></a>"
      ]
    },
    {
      "cell_type": "markdown",
      "source": [
        "<a href=\"https://githubtocolab.com/Joanri20/mss_energy_project/blob/trunk/01_Proyecto_DataSet_World_Energy_Consumption.ipynb\" target=\"_parent\"><img src=\"https://colab.research.google.com/assets/colab-badge.svg\" alt=\"Open in Colab\"/></a>"
      ],
      "metadata": {
        "id": "GsQ2F7S0GmoL"
      }
    },
    {
      "cell_type": "markdown",
      "source": [
        "# **Credit Card Customer Churn Prediction**\n"
      ],
      "metadata": {
        "id": "RlkX6vrs2UYF"
      }
    },
    {
      "cell_type": "markdown",
      "source": [
        "##**Experimento**"
      ],
      "metadata": {
        "id": "W-AJ3s75hFbS"
      }
    },
    {
      "cell_type": "code",
      "source": [
        "# Cargue del archivo y de las librerias\n",
        "!wget --no-cache -O init.py -q https://raw.githubusercontent.com/rramosp/ai4eng.v1/main/content/init.py\n",
        "import init; init.init(force_download=False); init.get_weblink()\n",
        "import json\n",
        "import numpy as np\n",
        "import pandas as pd\n",
        "import matplotlib.pyplot as plt\n",
        "%matplotlib inline\n",
        "import seaborn as sns\n",
        "import sklearn as sk\n",
        "from progressbar import progressbar as pbar\n",
        "from local.lib import mlutils\n",
        "%matplotlib inline\n",
        "from zipfile import ZipFile\n",
        "from scipy import stats\n",
        "from scipy.stats import norm\n",
        "from scipy import stats\n",
        "from sklearn import preprocessing\n",
        "from sklearn.preprocessing import LabelEncoder\n",
        "from sklearn.preprocessing import OneHotEncoder\n",
        "from sklearn.svm import SVR\n",
        "from sklearn.tree import DecisionTreeRegressor\n",
        "from sklearn.ensemble import RandomForestRegressor\n",
        "from sklearn.metrics import mean_absolute_error\n",
        "from sklearn.metrics import mean_absolute_percentage_error\n",
        "from sklearn.linear_model import LinearRegression\n",
        "from sklearn.model_selection import learning_curve\n",
        "from sklearn.metrics import mean_squared_error\n",
        "from sklearn.impute import SimpleImputer\n",
        "from sklearn.preprocessing import FunctionTransformer\n",
        "from sklearn.pipeline import Pipeline\n",
        "from sklearn.compose import ColumnTransformer\n",
        "from sklearn import utils\n",
        "from sklearn.model_selection import train_test_split,KFold,GroupKFold\n",
        "import lightgbm as lgb\n",
        "from sklearn.metrics import r2_score\n",
        "from sklearn.model_selection import cross_validate, ShuffleSplit"
      ],
      "metadata": {
        "colab": {
          "base_uri": "https://localhost:8080/",
          "height": 34
        },
        "id": "Y0SzqfD8iENe",
        "outputId": "b6e8589c-7e61-4272-fd8d-6e001e62f217"
      },
      "execution_count": null,
      "outputs": [
        {
          "output_type": "display_data",
          "data": {
            "text/plain": [
              "<IPython.core.display.HTML object>"
            ],
            "text/html": [
              "\n",
              "<meta name=\"google-signin-client_id\"\n",
              "      content=\"461673936472-kdjosv61up3ac1ajeuq6qqu72upilmls.apps.googleusercontent.com\"/>\n",
              "<script src=\"https://apis.google.com/js/client:platform.js?onload=google_button_start\"></script>\n",
              "    "
            ]
          },
          "metadata": {}
        },
        {
          "output_type": "stream",
          "name": "stdout",
          "text": [
            "replicating local resources\n"
          ]
        }
      ]
    },
    {
      "cell_type": "code",
      "source": [
        "datos = pd.read_csv(\"https://raw.githubusercontent.com/Joanri20/modelosysimulaciondos/trunk/churn.csv\")\n",
        "datos"
      ],
      "metadata": {
        "colab": {
          "base_uri": "https://localhost:8080/",
          "height": 617
        },
        "id": "rx73XBH2hmGb",
        "outputId": "52a80bbf-2a08-482e-e0a9-332e2b518757"
      },
      "execution_count": null,
      "outputs": [
        {
          "output_type": "execute_result",
          "data": {
            "text/plain": [
              "      customerID  gender  SeniorCitizen Partner Dependents  tenure  \\\n",
              "0     7590-VHVEG  Female              0     Yes         No       1   \n",
              "1     5575-GNVDE    Male              0      No         No      34   \n",
              "2     3668-QPYBK    Male              0      No         No       2   \n",
              "3     7795-CFOCW    Male              0      No         No      45   \n",
              "4     9237-HQITU  Female              0      No         No       2   \n",
              "...          ...     ...            ...     ...        ...     ...   \n",
              "7038  6840-RESVB    Male              0     Yes        Yes      24   \n",
              "7039  2234-XADUH  Female              0     Yes        Yes      73   \n",
              "7040  4801-JZAZL  Female              0     Yes        Yes      11   \n",
              "7041  8361-LTMKD    Male              1     Yes         No       4   \n",
              "7042  3186-AJIEK    Male              0      No         No      65   \n",
              "\n",
              "     PhoneService     MultipleLines InternetService OnlineSecurity  ...  \\\n",
              "0              No  No phone service             DSL             No  ...   \n",
              "1             Yes                No             DSL            Yes  ...   \n",
              "2             Yes                No             DSL            Yes  ...   \n",
              "3              No  No phone service             DSL            Yes  ...   \n",
              "4             Yes                No     Fiber optic             No  ...   \n",
              "...           ...               ...             ...            ...  ...   \n",
              "7038          Yes               Yes             DSL            Yes  ...   \n",
              "7039          Yes               Yes     Fiber optic             No  ...   \n",
              "7040           No  No phone service             DSL            Yes  ...   \n",
              "7041          Yes               Yes     Fiber optic             No  ...   \n",
              "7042          Yes                No     Fiber optic            Yes  ...   \n",
              "\n",
              "     DeviceProtection TechSupport StreamingTV StreamingMovies        Contract  \\\n",
              "0                  No          No          No              No  Month-to-month   \n",
              "1                 Yes          No          No              No        One year   \n",
              "2                  No          No          No              No  Month-to-month   \n",
              "3                 Yes         Yes          No              No        One year   \n",
              "4                  No          No          No              No  Month-to-month   \n",
              "...               ...         ...         ...             ...             ...   \n",
              "7038              Yes         Yes         Yes             Yes        One year   \n",
              "7039              Yes          No         Yes             Yes        One year   \n",
              "7040               No          No          No              No  Month-to-month   \n",
              "7041               No          No          No              No  Month-to-month   \n",
              "7042              Yes         Yes         Yes             Yes        Two year   \n",
              "\n",
              "     PaperlessBilling              PaymentMethod MonthlyCharges  TotalCharges  \\\n",
              "0                 Yes           Electronic check          29.85         29.85   \n",
              "1                  No               Mailed check          56.95       1889.50   \n",
              "2                 Yes               Mailed check          53.85        108.15   \n",
              "3                  No  Bank transfer (automatic)          42.30       1840.75   \n",
              "4                 Yes           Electronic check          70.70        151.65   \n",
              "...               ...                        ...            ...           ...   \n",
              "7038              Yes               Mailed check          84.80       1990.50   \n",
              "7039              Yes    Credit card (automatic)         103.20       7362.90   \n",
              "7040              Yes           Electronic check          29.60        346.45   \n",
              "7041              Yes               Mailed check          74.40        306.60   \n",
              "7042              Yes  Bank transfer (automatic)         105.65       6844.50   \n",
              "\n",
              "      Churn  \n",
              "0        No  \n",
              "1        No  \n",
              "2       Yes  \n",
              "3        No  \n",
              "4       Yes  \n",
              "...     ...  \n",
              "7038     No  \n",
              "7039     No  \n",
              "7040     No  \n",
              "7041    Yes  \n",
              "7042     No  \n",
              "\n",
              "[7043 rows x 21 columns]"
            ],
            "text/html": [
              "\n",
              "  <div id=\"df-5f14fd46-2765-4870-86ab-f1ce2abe9d48\" class=\"colab-df-container\">\n",
              "    <div>\n",
              "<style scoped>\n",
              "    .dataframe tbody tr th:only-of-type {\n",
              "        vertical-align: middle;\n",
              "    }\n",
              "\n",
              "    .dataframe tbody tr th {\n",
              "        vertical-align: top;\n",
              "    }\n",
              "\n",
              "    .dataframe thead th {\n",
              "        text-align: right;\n",
              "    }\n",
              "</style>\n",
              "<table border=\"1\" class=\"dataframe\">\n",
              "  <thead>\n",
              "    <tr style=\"text-align: right;\">\n",
              "      <th></th>\n",
              "      <th>customerID</th>\n",
              "      <th>gender</th>\n",
              "      <th>SeniorCitizen</th>\n",
              "      <th>Partner</th>\n",
              "      <th>Dependents</th>\n",
              "      <th>tenure</th>\n",
              "      <th>PhoneService</th>\n",
              "      <th>MultipleLines</th>\n",
              "      <th>InternetService</th>\n",
              "      <th>OnlineSecurity</th>\n",
              "      <th>...</th>\n",
              "      <th>DeviceProtection</th>\n",
              "      <th>TechSupport</th>\n",
              "      <th>StreamingTV</th>\n",
              "      <th>StreamingMovies</th>\n",
              "      <th>Contract</th>\n",
              "      <th>PaperlessBilling</th>\n",
              "      <th>PaymentMethod</th>\n",
              "      <th>MonthlyCharges</th>\n",
              "      <th>TotalCharges</th>\n",
              "      <th>Churn</th>\n",
              "    </tr>\n",
              "  </thead>\n",
              "  <tbody>\n",
              "    <tr>\n",
              "      <th>0</th>\n",
              "      <td>7590-VHVEG</td>\n",
              "      <td>Female</td>\n",
              "      <td>0</td>\n",
              "      <td>Yes</td>\n",
              "      <td>No</td>\n",
              "      <td>1</td>\n",
              "      <td>No</td>\n",
              "      <td>No phone service</td>\n",
              "      <td>DSL</td>\n",
              "      <td>No</td>\n",
              "      <td>...</td>\n",
              "      <td>No</td>\n",
              "      <td>No</td>\n",
              "      <td>No</td>\n",
              "      <td>No</td>\n",
              "      <td>Month-to-month</td>\n",
              "      <td>Yes</td>\n",
              "      <td>Electronic check</td>\n",
              "      <td>29.85</td>\n",
              "      <td>29.85</td>\n",
              "      <td>No</td>\n",
              "    </tr>\n",
              "    <tr>\n",
              "      <th>1</th>\n",
              "      <td>5575-GNVDE</td>\n",
              "      <td>Male</td>\n",
              "      <td>0</td>\n",
              "      <td>No</td>\n",
              "      <td>No</td>\n",
              "      <td>34</td>\n",
              "      <td>Yes</td>\n",
              "      <td>No</td>\n",
              "      <td>DSL</td>\n",
              "      <td>Yes</td>\n",
              "      <td>...</td>\n",
              "      <td>Yes</td>\n",
              "      <td>No</td>\n",
              "      <td>No</td>\n",
              "      <td>No</td>\n",
              "      <td>One year</td>\n",
              "      <td>No</td>\n",
              "      <td>Mailed check</td>\n",
              "      <td>56.95</td>\n",
              "      <td>1889.50</td>\n",
              "      <td>No</td>\n",
              "    </tr>\n",
              "    <tr>\n",
              "      <th>2</th>\n",
              "      <td>3668-QPYBK</td>\n",
              "      <td>Male</td>\n",
              "      <td>0</td>\n",
              "      <td>No</td>\n",
              "      <td>No</td>\n",
              "      <td>2</td>\n",
              "      <td>Yes</td>\n",
              "      <td>No</td>\n",
              "      <td>DSL</td>\n",
              "      <td>Yes</td>\n",
              "      <td>...</td>\n",
              "      <td>No</td>\n",
              "      <td>No</td>\n",
              "      <td>No</td>\n",
              "      <td>No</td>\n",
              "      <td>Month-to-month</td>\n",
              "      <td>Yes</td>\n",
              "      <td>Mailed check</td>\n",
              "      <td>53.85</td>\n",
              "      <td>108.15</td>\n",
              "      <td>Yes</td>\n",
              "    </tr>\n",
              "    <tr>\n",
              "      <th>3</th>\n",
              "      <td>7795-CFOCW</td>\n",
              "      <td>Male</td>\n",
              "      <td>0</td>\n",
              "      <td>No</td>\n",
              "      <td>No</td>\n",
              "      <td>45</td>\n",
              "      <td>No</td>\n",
              "      <td>No phone service</td>\n",
              "      <td>DSL</td>\n",
              "      <td>Yes</td>\n",
              "      <td>...</td>\n",
              "      <td>Yes</td>\n",
              "      <td>Yes</td>\n",
              "      <td>No</td>\n",
              "      <td>No</td>\n",
              "      <td>One year</td>\n",
              "      <td>No</td>\n",
              "      <td>Bank transfer (automatic)</td>\n",
              "      <td>42.30</td>\n",
              "      <td>1840.75</td>\n",
              "      <td>No</td>\n",
              "    </tr>\n",
              "    <tr>\n",
              "      <th>4</th>\n",
              "      <td>9237-HQITU</td>\n",
              "      <td>Female</td>\n",
              "      <td>0</td>\n",
              "      <td>No</td>\n",
              "      <td>No</td>\n",
              "      <td>2</td>\n",
              "      <td>Yes</td>\n",
              "      <td>No</td>\n",
              "      <td>Fiber optic</td>\n",
              "      <td>No</td>\n",
              "      <td>...</td>\n",
              "      <td>No</td>\n",
              "      <td>No</td>\n",
              "      <td>No</td>\n",
              "      <td>No</td>\n",
              "      <td>Month-to-month</td>\n",
              "      <td>Yes</td>\n",
              "      <td>Electronic check</td>\n",
              "      <td>70.70</td>\n",
              "      <td>151.65</td>\n",
              "      <td>Yes</td>\n",
              "    </tr>\n",
              "    <tr>\n",
              "      <th>...</th>\n",
              "      <td>...</td>\n",
              "      <td>...</td>\n",
              "      <td>...</td>\n",
              "      <td>...</td>\n",
              "      <td>...</td>\n",
              "      <td>...</td>\n",
              "      <td>...</td>\n",
              "      <td>...</td>\n",
              "      <td>...</td>\n",
              "      <td>...</td>\n",
              "      <td>...</td>\n",
              "      <td>...</td>\n",
              "      <td>...</td>\n",
              "      <td>...</td>\n",
              "      <td>...</td>\n",
              "      <td>...</td>\n",
              "      <td>...</td>\n",
              "      <td>...</td>\n",
              "      <td>...</td>\n",
              "      <td>...</td>\n",
              "      <td>...</td>\n",
              "    </tr>\n",
              "    <tr>\n",
              "      <th>7038</th>\n",
              "      <td>6840-RESVB</td>\n",
              "      <td>Male</td>\n",
              "      <td>0</td>\n",
              "      <td>Yes</td>\n",
              "      <td>Yes</td>\n",
              "      <td>24</td>\n",
              "      <td>Yes</td>\n",
              "      <td>Yes</td>\n",
              "      <td>DSL</td>\n",
              "      <td>Yes</td>\n",
              "      <td>...</td>\n",
              "      <td>Yes</td>\n",
              "      <td>Yes</td>\n",
              "      <td>Yes</td>\n",
              "      <td>Yes</td>\n",
              "      <td>One year</td>\n",
              "      <td>Yes</td>\n",
              "      <td>Mailed check</td>\n",
              "      <td>84.80</td>\n",
              "      <td>1990.50</td>\n",
              "      <td>No</td>\n",
              "    </tr>\n",
              "    <tr>\n",
              "      <th>7039</th>\n",
              "      <td>2234-XADUH</td>\n",
              "      <td>Female</td>\n",
              "      <td>0</td>\n",
              "      <td>Yes</td>\n",
              "      <td>Yes</td>\n",
              "      <td>73</td>\n",
              "      <td>Yes</td>\n",
              "      <td>Yes</td>\n",
              "      <td>Fiber optic</td>\n",
              "      <td>No</td>\n",
              "      <td>...</td>\n",
              "      <td>Yes</td>\n",
              "      <td>No</td>\n",
              "      <td>Yes</td>\n",
              "      <td>Yes</td>\n",
              "      <td>One year</td>\n",
              "      <td>Yes</td>\n",
              "      <td>Credit card (automatic)</td>\n",
              "      <td>103.20</td>\n",
              "      <td>7362.90</td>\n",
              "      <td>No</td>\n",
              "    </tr>\n",
              "    <tr>\n",
              "      <th>7040</th>\n",
              "      <td>4801-JZAZL</td>\n",
              "      <td>Female</td>\n",
              "      <td>0</td>\n",
              "      <td>Yes</td>\n",
              "      <td>Yes</td>\n",
              "      <td>11</td>\n",
              "      <td>No</td>\n",
              "      <td>No phone service</td>\n",
              "      <td>DSL</td>\n",
              "      <td>Yes</td>\n",
              "      <td>...</td>\n",
              "      <td>No</td>\n",
              "      <td>No</td>\n",
              "      <td>No</td>\n",
              "      <td>No</td>\n",
              "      <td>Month-to-month</td>\n",
              "      <td>Yes</td>\n",
              "      <td>Electronic check</td>\n",
              "      <td>29.60</td>\n",
              "      <td>346.45</td>\n",
              "      <td>No</td>\n",
              "    </tr>\n",
              "    <tr>\n",
              "      <th>7041</th>\n",
              "      <td>8361-LTMKD</td>\n",
              "      <td>Male</td>\n",
              "      <td>1</td>\n",
              "      <td>Yes</td>\n",
              "      <td>No</td>\n",
              "      <td>4</td>\n",
              "      <td>Yes</td>\n",
              "      <td>Yes</td>\n",
              "      <td>Fiber optic</td>\n",
              "      <td>No</td>\n",
              "      <td>...</td>\n",
              "      <td>No</td>\n",
              "      <td>No</td>\n",
              "      <td>No</td>\n",
              "      <td>No</td>\n",
              "      <td>Month-to-month</td>\n",
              "      <td>Yes</td>\n",
              "      <td>Mailed check</td>\n",
              "      <td>74.40</td>\n",
              "      <td>306.60</td>\n",
              "      <td>Yes</td>\n",
              "    </tr>\n",
              "    <tr>\n",
              "      <th>7042</th>\n",
              "      <td>3186-AJIEK</td>\n",
              "      <td>Male</td>\n",
              "      <td>0</td>\n",
              "      <td>No</td>\n",
              "      <td>No</td>\n",
              "      <td>65</td>\n",
              "      <td>Yes</td>\n",
              "      <td>No</td>\n",
              "      <td>Fiber optic</td>\n",
              "      <td>Yes</td>\n",
              "      <td>...</td>\n",
              "      <td>Yes</td>\n",
              "      <td>Yes</td>\n",
              "      <td>Yes</td>\n",
              "      <td>Yes</td>\n",
              "      <td>Two year</td>\n",
              "      <td>Yes</td>\n",
              "      <td>Bank transfer (automatic)</td>\n",
              "      <td>105.65</td>\n",
              "      <td>6844.50</td>\n",
              "      <td>No</td>\n",
              "    </tr>\n",
              "  </tbody>\n",
              "</table>\n",
              "<p>7043 rows × 21 columns</p>\n",
              "</div>\n",
              "    <div class=\"colab-df-buttons\">\n",
              "\n",
              "  <div class=\"colab-df-container\">\n",
              "    <button class=\"colab-df-convert\" onclick=\"convertToInteractive('df-5f14fd46-2765-4870-86ab-f1ce2abe9d48')\"\n",
              "            title=\"Convert this dataframe to an interactive table.\"\n",
              "            style=\"display:none;\">\n",
              "\n",
              "  <svg xmlns=\"http://www.w3.org/2000/svg\" height=\"24px\" viewBox=\"0 -960 960 960\">\n",
              "    <path d=\"M120-120v-720h720v720H120Zm60-500h600v-160H180v160Zm220 220h160v-160H400v160Zm0 220h160v-160H400v160ZM180-400h160v-160H180v160Zm440 0h160v-160H620v160ZM180-180h160v-160H180v160Zm440 0h160v-160H620v160Z\"/>\n",
              "  </svg>\n",
              "    </button>\n",
              "\n",
              "  <style>\n",
              "    .colab-df-container {\n",
              "      display:flex;\n",
              "      gap: 12px;\n",
              "    }\n",
              "\n",
              "    .colab-df-convert {\n",
              "      background-color: #E8F0FE;\n",
              "      border: none;\n",
              "      border-radius: 50%;\n",
              "      cursor: pointer;\n",
              "      display: none;\n",
              "      fill: #1967D2;\n",
              "      height: 32px;\n",
              "      padding: 0 0 0 0;\n",
              "      width: 32px;\n",
              "    }\n",
              "\n",
              "    .colab-df-convert:hover {\n",
              "      background-color: #E2EBFA;\n",
              "      box-shadow: 0px 1px 2px rgba(60, 64, 67, 0.3), 0px 1px 3px 1px rgba(60, 64, 67, 0.15);\n",
              "      fill: #174EA6;\n",
              "    }\n",
              "\n",
              "    .colab-df-buttons div {\n",
              "      margin-bottom: 4px;\n",
              "    }\n",
              "\n",
              "    [theme=dark] .colab-df-convert {\n",
              "      background-color: #3B4455;\n",
              "      fill: #D2E3FC;\n",
              "    }\n",
              "\n",
              "    [theme=dark] .colab-df-convert:hover {\n",
              "      background-color: #434B5C;\n",
              "      box-shadow: 0px 1px 3px 1px rgba(0, 0, 0, 0.15);\n",
              "      filter: drop-shadow(0px 1px 2px rgba(0, 0, 0, 0.3));\n",
              "      fill: #FFFFFF;\n",
              "    }\n",
              "  </style>\n",
              "\n",
              "    <script>\n",
              "      const buttonEl =\n",
              "        document.querySelector('#df-5f14fd46-2765-4870-86ab-f1ce2abe9d48 button.colab-df-convert');\n",
              "      buttonEl.style.display =\n",
              "        google.colab.kernel.accessAllowed ? 'block' : 'none';\n",
              "\n",
              "      async function convertToInteractive(key) {\n",
              "        const element = document.querySelector('#df-5f14fd46-2765-4870-86ab-f1ce2abe9d48');\n",
              "        const dataTable =\n",
              "          await google.colab.kernel.invokeFunction('convertToInteractive',\n",
              "                                                    [key], {});\n",
              "        if (!dataTable) return;\n",
              "\n",
              "        const docLinkHtml = 'Like what you see? Visit the ' +\n",
              "          '<a target=\"_blank\" href=https://colab.research.google.com/notebooks/data_table.ipynb>data table notebook</a>'\n",
              "          + ' to learn more about interactive tables.';\n",
              "        element.innerHTML = '';\n",
              "        dataTable['output_type'] = 'display_data';\n",
              "        await google.colab.output.renderOutput(dataTable, element);\n",
              "        const docLink = document.createElement('div');\n",
              "        docLink.innerHTML = docLinkHtml;\n",
              "        element.appendChild(docLink);\n",
              "      }\n",
              "    </script>\n",
              "  </div>\n",
              "\n",
              "\n",
              "<div id=\"df-8eb20bc4-bc51-4dbd-b894-fe62a8113808\">\n",
              "  <button class=\"colab-df-quickchart\" onclick=\"quickchart('df-8eb20bc4-bc51-4dbd-b894-fe62a8113808')\"\n",
              "            title=\"Suggest charts\"\n",
              "            style=\"display:none;\">\n",
              "\n",
              "<svg xmlns=\"http://www.w3.org/2000/svg\" height=\"24px\"viewBox=\"0 0 24 24\"\n",
              "     width=\"24px\">\n",
              "    <g>\n",
              "        <path d=\"M19 3H5c-1.1 0-2 .9-2 2v14c0 1.1.9 2 2 2h14c1.1 0 2-.9 2-2V5c0-1.1-.9-2-2-2zM9 17H7v-7h2v7zm4 0h-2V7h2v10zm4 0h-2v-4h2v4z\"/>\n",
              "    </g>\n",
              "</svg>\n",
              "  </button>\n",
              "\n",
              "<style>\n",
              "  .colab-df-quickchart {\n",
              "      --bg-color: #E8F0FE;\n",
              "      --fill-color: #1967D2;\n",
              "      --hover-bg-color: #E2EBFA;\n",
              "      --hover-fill-color: #174EA6;\n",
              "      --disabled-fill-color: #AAA;\n",
              "      --disabled-bg-color: #DDD;\n",
              "  }\n",
              "\n",
              "  [theme=dark] .colab-df-quickchart {\n",
              "      --bg-color: #3B4455;\n",
              "      --fill-color: #D2E3FC;\n",
              "      --hover-bg-color: #434B5C;\n",
              "      --hover-fill-color: #FFFFFF;\n",
              "      --disabled-bg-color: #3B4455;\n",
              "      --disabled-fill-color: #666;\n",
              "  }\n",
              "\n",
              "  .colab-df-quickchart {\n",
              "    background-color: var(--bg-color);\n",
              "    border: none;\n",
              "    border-radius: 50%;\n",
              "    cursor: pointer;\n",
              "    display: none;\n",
              "    fill: var(--fill-color);\n",
              "    height: 32px;\n",
              "    padding: 0;\n",
              "    width: 32px;\n",
              "  }\n",
              "\n",
              "  .colab-df-quickchart:hover {\n",
              "    background-color: var(--hover-bg-color);\n",
              "    box-shadow: 0 1px 2px rgba(60, 64, 67, 0.3), 0 1px 3px 1px rgba(60, 64, 67, 0.15);\n",
              "    fill: var(--button-hover-fill-color);\n",
              "  }\n",
              "\n",
              "  .colab-df-quickchart-complete:disabled,\n",
              "  .colab-df-quickchart-complete:disabled:hover {\n",
              "    background-color: var(--disabled-bg-color);\n",
              "    fill: var(--disabled-fill-color);\n",
              "    box-shadow: none;\n",
              "  }\n",
              "\n",
              "  .colab-df-spinner {\n",
              "    border: 2px solid var(--fill-color);\n",
              "    border-color: transparent;\n",
              "    border-bottom-color: var(--fill-color);\n",
              "    animation:\n",
              "      spin 1s steps(1) infinite;\n",
              "  }\n",
              "\n",
              "  @keyframes spin {\n",
              "    0% {\n",
              "      border-color: transparent;\n",
              "      border-bottom-color: var(--fill-color);\n",
              "      border-left-color: var(--fill-color);\n",
              "    }\n",
              "    20% {\n",
              "      border-color: transparent;\n",
              "      border-left-color: var(--fill-color);\n",
              "      border-top-color: var(--fill-color);\n",
              "    }\n",
              "    30% {\n",
              "      border-color: transparent;\n",
              "      border-left-color: var(--fill-color);\n",
              "      border-top-color: var(--fill-color);\n",
              "      border-right-color: var(--fill-color);\n",
              "    }\n",
              "    40% {\n",
              "      border-color: transparent;\n",
              "      border-right-color: var(--fill-color);\n",
              "      border-top-color: var(--fill-color);\n",
              "    }\n",
              "    60% {\n",
              "      border-color: transparent;\n",
              "      border-right-color: var(--fill-color);\n",
              "    }\n",
              "    80% {\n",
              "      border-color: transparent;\n",
              "      border-right-color: var(--fill-color);\n",
              "      border-bottom-color: var(--fill-color);\n",
              "    }\n",
              "    90% {\n",
              "      border-color: transparent;\n",
              "      border-bottom-color: var(--fill-color);\n",
              "    }\n",
              "  }\n",
              "</style>\n",
              "\n",
              "  <script>\n",
              "    async function quickchart(key) {\n",
              "      const quickchartButtonEl =\n",
              "        document.querySelector('#' + key + ' button');\n",
              "      quickchartButtonEl.disabled = true;  // To prevent multiple clicks.\n",
              "      quickchartButtonEl.classList.add('colab-df-spinner');\n",
              "      try {\n",
              "        const charts = await google.colab.kernel.invokeFunction(\n",
              "            'suggestCharts', [key], {});\n",
              "      } catch (error) {\n",
              "        console.error('Error during call to suggestCharts:', error);\n",
              "      }\n",
              "      quickchartButtonEl.classList.remove('colab-df-spinner');\n",
              "      quickchartButtonEl.classList.add('colab-df-quickchart-complete');\n",
              "    }\n",
              "    (() => {\n",
              "      let quickchartButtonEl =\n",
              "        document.querySelector('#df-8eb20bc4-bc51-4dbd-b894-fe62a8113808 button');\n",
              "      quickchartButtonEl.style.display =\n",
              "        google.colab.kernel.accessAllowed ? 'block' : 'none';\n",
              "    })();\n",
              "  </script>\n",
              "</div>\n",
              "    </div>\n",
              "  </div>\n"
            ],
            "application/vnd.google.colaboratory.intrinsic+json": {
              "type": "dataframe",
              "variable_name": "datos"
            }
          },
          "metadata": {},
          "execution_count": 2
        }
      ]
    },
    {
      "cell_type": "code",
      "source": [],
      "metadata": {
        "id": "Rtb45muIcwg8"
      },
      "execution_count": null,
      "outputs": []
    },
    {
      "cell_type": "code",
      "source": [
        "# Calcular el promedio de valores nulos por columna en el DataFrame 'datos'\n",
        "promedio_valores_nulos_por_columna = datos.isnull().mean() * 100\n",
        "\n",
        "# Mostrar el resultado\n",
        "print(promedio_valores_nulos_por_columna)"
      ],
      "metadata": {
        "colab": {
          "base_uri": "https://localhost:8080/"
        },
        "id": "820r6sXQp7bJ",
        "outputId": "154bb534-a62e-4e9f-bb38-89be69da268d"
      },
      "execution_count": null,
      "outputs": [
        {
          "output_type": "stream",
          "name": "stdout",
          "text": [
            "customerID          0.000000\n",
            "gender              0.000000\n",
            "SeniorCitizen       0.000000\n",
            "Partner             0.000000\n",
            "Dependents          0.000000\n",
            "tenure              0.000000\n",
            "PhoneService        0.000000\n",
            "MultipleLines       0.000000\n",
            "InternetService     0.000000\n",
            "OnlineSecurity      0.000000\n",
            "OnlineBackup        0.000000\n",
            "DeviceProtection    0.000000\n",
            "TechSupport         0.000000\n",
            "StreamingTV         0.000000\n",
            "StreamingMovies     0.000000\n",
            "Contract            0.000000\n",
            "PaperlessBilling    0.000000\n",
            "PaymentMethod       0.000000\n",
            "MonthlyCharges      0.000000\n",
            "TotalCharges        0.156183\n",
            "Churn               0.000000\n",
            "dtype: float64\n"
          ]
        }
      ]
    },
    {
      "cell_type": "markdown",
      "source": [
        "Existe una columna que tiene datos faltantes por lo tanto se llenarán con la media"
      ],
      "metadata": {
        "id": "z3dNN-vIyhnx"
      }
    },
    {
      "cell_type": "code",
      "source": [
        "media_columna = datos['TotalCharges'].mean()\n",
        "datos['TotalCharges'].fillna(media_columna, inplace=True)"
      ],
      "metadata": {
        "id": "O1fzHRRhqoMI"
      },
      "execution_count": null,
      "outputs": []
    },
    {
      "cell_type": "markdown",
      "source": [
        "## Preparación de la Data. Etiquetar variables"
      ],
      "metadata": {
        "id": "qUe955T0mYZw"
      }
    },
    {
      "cell_type": "markdown",
      "source": [
        "Aqui las variables categoricas se transforman en númericas"
      ],
      "metadata": {
        "id": "pmRrskemywFO"
      }
    },
    {
      "cell_type": "code",
      "source": [
        "import numpy as np\n",
        "import pandas as pd\n",
        "from sklearn.cluster import KMeans\n",
        "from sklearn.preprocessing import StandardScaler\n",
        "from sklearn.metrics import silhouette_score\n",
        "\n",
        "# Cargar los datos\n",
        "df = datos.copy()\n",
        "\n",
        "# Seleccionar las columnas numéricas y categóricas\n",
        "columnas_numericas = df.select_dtypes(include=[np.number]).columns.tolist()\n",
        "columnas_categoricas = df.select_dtypes(exclude=[np.number]).columns.tolist()\n",
        "\n",
        "#Se elimina la columna de salida\n",
        "columnas_categoricas.remove('Churn')\n",
        "\n",
        "#Se trasnforman las variables predictoras que son categoricas en númericas\n",
        "label_encoders = {}\n",
        "for col in columnas_categoricas:\n",
        "    le = LabelEncoder()\n",
        "    df[col] = le.fit_transform(df[col])\n",
        "    label_encoders[col] = le\n",
        "\n",
        "# Transformar en númerica la variables de salida\n",
        "label_encoder = LabelEncoder()\n",
        "y = label_encoder.fit_transform(df['Churn'])  # Variable de salida\n",
        "\n",
        "#Se combinan las númericas y las categoricas en una sola varaible X\n",
        "columnas_predictoras = columnas_numericas + columnas_categoricas\n",
        "X = df[columnas_predictoras]  # Variables predictoras"
      ],
      "metadata": {
        "id": "xiZsK6UiDUty"
      },
      "execution_count": null,
      "outputs": []
    },
    {
      "cell_type": "markdown",
      "source": [
        "## Preprocesado de datos\n"
      ],
      "metadata": {
        "id": "CAKDyGlYXhwy"
      }
    },
    {
      "cell_type": "code",
      "source": [
        "import pandas as pd\n",
        "from sklearn.model_selection import train_test_split\n",
        "from sklearn.preprocessing import StandardScaler\n",
        "\n",
        "# Normalizar las variables predictoras\n",
        "scaler = StandardScaler()\n",
        "X= pd.DataFrame(scaler.fit_transform(X), columns=X.columns)\n",
        "\n",
        "\n",
        "#Divide los datos para entrenamiento Bootstrap80% y test 20%\n",
        "X_train_bootstrap, X_test_bootstrap, y_train_bootstrap, y_test_bootstrap = train_test_split(X, y, test_size=0.2, random_state=42)"
      ],
      "metadata": {
        "id": "ZfJXYWkcXg_e"
      },
      "execution_count": null,
      "outputs": []
    },
    {
      "cell_type": "markdown",
      "source": [
        "## **Funciones Discriminantes Gaussianas**  (Gaussian Discriminant Analysis - GDA)"
      ],
      "metadata": {
        "id": "FUtdCbtJDcdB"
      }
    },
    {
      "cell_type": "markdown",
      "source": [
        "Utilizando validacion bootstrap para los modelos FDG donde hay 3 tipos: Sacado de la siguiente fuente: [Link](https://colab.research.google.com/github/jdariasl/ML_2020/blob/master/Clase%2003%20-%20Funciones%20discriminantes%20Gausianas.ipynb#scrollTo=oHQ2boOqZ4jM)"
      ],
      "metadata": {
        "id": "4neNU33Rfylj"
      }
    },
    {
      "cell_type": "code",
      "source": [
        "from sklearn.discriminant_analysis import LinearDiscriminantAnalysis\n",
        "from sklearn.discriminant_analysis import QuadraticDiscriminantAnalysis\n",
        "from sklearn.naive_bayes import GaussianNB\n",
        "from sklearn.metrics import accuracy_score,classification_report\n",
        "#CASO 1 : matrices de covarianza se consideran de la forma  Σ=σ2I , donde  I  es la matriz identidad.\n",
        "\n",
        "#Entrenar el modelo\n",
        "fdgC1 = LinearDiscriminantAnalysis()\n",
        "fdgC1.fit(X_train_bootstrap, y_train_bootstrap)\n",
        "\n",
        "#Evaluar el modelo\n",
        "# Hacer predicciones\n",
        "y_pred = fdgC1.predict(X_test_bootstrap)\n",
        "\n",
        "# Calcular la precisión del modelo\n",
        "accuracy = accuracy_score(y_test_bootstrap, y_pred)\n",
        "print(f'Accuracy FDG Caso 1: {accuracy}')\n",
        "\n",
        "# Mostrar el reporte de clasificación (métricas detalladas por clase)\n",
        "print('FDG Caso 1:')\n",
        "print(classification_report(y_test_bootstrap, y_pred))\n",
        "\n",
        "#***************************************\n",
        "print(\"****************************************\")\n",
        "#CASO 2 : Las matrices de covarianza se consideran diagonales\n",
        "#Entrenar el modelo\n",
        "fdgC2 = GaussianNB()\n",
        "fdgC2.fit(X_train_bootstrap, y_train_bootstrap)\n",
        "\n",
        "#Evaluar el modelo\n",
        "# Hacer predicciones\n",
        "y_pred = fdgC2.predict(X_test_bootstrap)\n",
        "\n",
        "# Calcular la precisión del modelo\n",
        "accuracy = accuracy_score(y_test_bootstrap, y_pred)\n",
        "print(f'Accuracy FDG Caso 2: {accuracy}')\n",
        "\n",
        "# Mostrar el reporte de clasificación (métricas detalladas por clase)\n",
        "print('FDG Caso 2:')\n",
        "print(classification_report(y_test_bootstrap, y_pred))\n",
        "\n",
        "#***************************************\n",
        "print(\"****************************************\")\n",
        "#CASO 3 :  Las matrices de covarianza de los modelos se consideran completas y las clases se consideran agrupadas en parábolas cuyo eje principal puede estar en cualquier dirección\n",
        "#Entrenar el modelo\n",
        "fdgC3 = QuadraticDiscriminantAnalysis()\n",
        "fdgC3.fit(X_train_bootstrap, y_train_bootstrap)\n",
        "\n",
        "#Evaluar el modelo\n",
        "# Hacer predicciones\n",
        "y_pred = fdgC3.predict(X_test_bootstrap)\n",
        "\n",
        "# Calcular la precisión del modelo\n",
        "accuracy = accuracy_score(y_test_bootstrap, y_pred)\n",
        "print(f'Accuracy FDG Caso 3: {accuracy}')\n",
        "\n",
        "# Mostrar el reporte de clasificación (métricas detalladas por clase)\n",
        "print('FDG Caso 3:')\n",
        "print(classification_report(y_test_bootstrap, y_pred))"
      ],
      "metadata": {
        "colab": {
          "base_uri": "https://localhost:8080/"
        },
        "id": "fYP1oCrgJX1d",
        "outputId": "17fc9331-bb74-42e3-a92a-6ff408443135"
      },
      "execution_count": null,
      "outputs": [
        {
          "output_type": "stream",
          "name": "stdout",
          "text": [
            "Accuracy FDG Caso 1: 0.8168914123491838\n",
            "FDG Caso 1:\n",
            "              precision    recall  f1-score   support\n",
            "\n",
            "           0       0.86      0.90      0.88      1036\n",
            "           1       0.68      0.58      0.63       373\n",
            "\n",
            "    accuracy                           0.82      1409\n",
            "   macro avg       0.77      0.74      0.75      1409\n",
            "weighted avg       0.81      0.82      0.81      1409\n",
            "\n",
            "****************************************\n",
            "Accuracy FDG Caso 2: 0.758694109297374\n",
            "FDG Caso 2:\n",
            "              precision    recall  f1-score   support\n",
            "\n",
            "           0       0.90      0.75      0.82      1036\n",
            "           1       0.53      0.78      0.63       373\n",
            "\n",
            "    accuracy                           0.76      1409\n",
            "   macro avg       0.72      0.76      0.73      1409\n",
            "weighted avg       0.80      0.76      0.77      1409\n",
            "\n",
            "****************************************\n",
            "Accuracy FDG Caso 3: 0.7700496806245565\n",
            "FDG Caso 3:\n",
            "              precision    recall  f1-score   support\n",
            "\n",
            "           0       0.90      0.77      0.83      1036\n",
            "           1       0.55      0.76      0.64       373\n",
            "\n",
            "    accuracy                           0.77      1409\n",
            "   macro avg       0.72      0.77      0.73      1409\n",
            "weighted avg       0.81      0.77      0.78      1409\n",
            "\n"
          ]
        }
      ]
    },
    {
      "cell_type": "markdown",
      "source": [
        "## **FDG con Validación Cruzada**"
      ],
      "metadata": {
        "id": "_LzRiv6FX-6I"
      }
    },
    {
      "cell_type": "code",
      "source": [
        "#CASO 1 : matrices de covarianza se consideran de la forma  Σ=σ2I , donde  I  es la matriz identidad.\n",
        "from sklearn.model_selection import cross_val_score, StratifiedKFold\n",
        "\n",
        "# Usar validación cruzada\n",
        "k_fold = StratifiedKFold(n_splits=8, shuffle=True, random_state=42)\n",
        "cross_val_scores = cross_val_score(LinearDiscriminantAnalysis(), X, y, cv=k_fold, scoring='accuracy')\n",
        "\n",
        "# Mostrar el reporte de clasificación (métricas detalladas por clase)\n",
        "print('FDG Caso 1:')\n",
        "# Ver los puntajes de validación cruzada para FDG Caso 1\n",
        "print(\"Cross Validation Scores:\", cross_val_scores)\n",
        "print(\"Mean CV Accuracy:\", cross_val_scores.mean())\n",
        "\n",
        "print(\"****************************************\")\n",
        "\n",
        "#CASO 2 : Las matrices de covarianza se consideran diagonales\n",
        "# Usar validación cruzada\n",
        "k_fold = StratifiedKFold(n_splits=8, shuffle=True, random_state=42)\n",
        "cross_val_scores = cross_val_score(GaussianNB(), X, y, cv=k_fold, scoring='accuracy')\n",
        "print('FDG Caso 2:')\n",
        "# Ver los puntajes de validación cruzada para FDG Caso 2\n",
        "print(\"Cross Validation Scores:\", cross_val_scores)\n",
        "print(\"Mean CV Accuracy:\", cross_val_scores.mean())\n",
        "\n",
        "print(\"****************************************\")\n",
        "\n",
        "#CASO 3 :  Las matrices de covarianza de los modelos se consideran completas y las clases se consideran agrupadas en parábolas cuyo eje principal puede estar en cualquier dirección\n",
        "# Usar validación cruzada\n",
        "k_fold = StratifiedKFold(n_splits=8, shuffle=True, random_state=42)\n",
        "cross_val_scores = cross_val_score(QuadraticDiscriminantAnalysis(), X, y, cv=k_fold, scoring='accuracy')\n",
        "print('FDG Caso 3:')\n",
        "# Ver los puntajes de validación cruzada para FDG Caso 3\n",
        "print(\"Cross Validation Scores:\", cross_val_scores)\n",
        "print(\"Mean CV Accuracy:\", cross_val_scores.mean())"
      ],
      "metadata": {
        "colab": {
          "base_uri": "https://localhost:8080/"
        },
        "id": "RT5lD8kMS3lW",
        "outputId": "073d0c56-8b5c-4802-ffc2-68adfd63a6ad"
      },
      "execution_count": null,
      "outputs": [
        {
          "output_type": "stream",
          "name": "stdout",
          "text": [
            "FDG Caso 1:\n",
            "Cross Validation Scores: [0.80022701 0.78547106 0.80022701 0.82159091 0.80568182 0.77159091\n",
            " 0.80113636 0.78068182]\n",
            "Mean CV Accuracy: 0.795825862914044\n",
            "****************************************\n",
            "FDG Caso 2:\n",
            "Cross Validation Scores: [0.76958002 0.75141884 0.75255392 0.76704545 0.75227273 0.75113636\n",
            " 0.74545455 0.7375    ]\n",
            "Mean CV Accuracy: 0.7533702339799815\n",
            "****************************************\n",
            "FDG Caso 3:\n",
            "Cross Validation Scores: [0.7661748  0.76503973 0.77185017 0.78409091 0.76818182 0.72954545\n",
            " 0.73977273 0.76590909]\n",
            "Mean CV Accuracy: 0.761320587400681\n"
          ]
        }
      ]
    },
    {
      "cell_type": "markdown",
      "source": [
        "##**Modelo de K Vecinos Más Cercanos (K-Nearest Neighbors - KNN):**"
      ],
      "metadata": {
        "id": "WcrZVZYMYBe8"
      }
    },
    {
      "cell_type": "markdown",
      "source": [
        "Se realiza una busqueda de los K-vecinos mas optimos, con una validación cruzada con 5 k-folds"
      ],
      "metadata": {
        "id": "h6hSN1XOwml2"
      }
    },
    {
      "cell_type": "markdown",
      "source": [
        "**NOTA: Tarda 5 minutos**"
      ],
      "metadata": {
        "id": "YUoycANCRRTg"
      }
    },
    {
      "cell_type": "code",
      "source": [
        "from sklearn.neighbors import KNeighborsClassifier\n",
        "# Lista para almacenar las puntuaciones de precisión\n",
        "precisions = []\n",
        "cvs = []\n",
        "ks = []\n",
        "inertia = []\n",
        "# Probar diferentes valores de k\n",
        "valores_k = range(1, 21)\n",
        "valores_cv = range(2, 21)\n",
        "for k in valores_k:\n",
        "    for cv in valores_cv:\n",
        "      knn = KNeighborsClassifier(n_neighbors=k)\n",
        "      scores = cross_val_score(knn, X, y, cv=cv, scoring='accuracy')\n",
        "      precisions.append(scores.mean())\n",
        "      cvs.append(cv)\n",
        "      ks.append(k)\n",
        "\n",
        "# Graficar los resultados\n",
        "plt.plot(ks, precisions, marker='o')\n",
        "plt.xlabel('Número de Vecinos (k)')\n",
        "plt.ylabel('Precisión')\n",
        "plt.title('Precisión para diferentes valores de k')\n",
        "plt.show()\n",
        "\n",
        "# Encontrar el valor de k con la mayor precisión\n",
        "k_optimo = ks[precisions.index(max(precisions))]\n",
        "cv_optimo = cvs[precisions.index(max(precisions))]\n",
        "print(f'El número óptimo de vecinos es: {k_optimo} con una precision de: {max(precisions)} con Folds de: {cv_optimo}')"
      ],
      "metadata": {
        "id": "OhmCnp8gbHvq",
        "colab": {
          "base_uri": "https://localhost:8080/",
          "height": 489
        },
        "outputId": "5ae2a69c-b5dc-4594-8db1-0b2ca92e153d"
      },
      "execution_count": null,
      "outputs": [
        {
          "output_type": "display_data",
          "data": {
            "text/plain": [
              "<Figure size 640x480 with 1 Axes>"
            ],
            "image/png": "[encoded data removed]"
          },
          "metadata": {}
        },
        {
          "output_type": "stream",
          "name": "stdout",
          "text": [
            "El número óptimo de vecinos es: 20 con una precision de: 0.7804913865489834 con Folds de: 19\n"
          ]
        }
      ]
    },
    {
      "cell_type": "code",
      "source": [
        "# Encuentra los índices de los 10 valores más altos de precisions\n",
        "top_10_indices = np.argsort(precisions)[-10:]\n",
        "\n",
        "# Obtén los valores correspondientes de cvs y ks\n",
        "cvs_top_10 = [cvs[i] for i in top_10_indices]\n",
        "ks_top_10 = [ks[i] for i in top_10_indices]\n",
        "\n",
        "# Calcula la media de estos valores\n",
        "cvs_mean = np.mean(cvs_top_10)\n",
        "ks_mean = np.mean(ks_top_10)\n",
        "\n",
        "print(f'La media de los Folds o iteraciones para los 10 valores más altos de precision es: {cvs_mean}')\n",
        "print(f'La media de los valores de k-vecinos para los 10 valores más altos de precision es: {ks_mean}')"
      ],
      "metadata": {
        "colab": {
          "base_uri": "https://localhost:8080/"
        },
        "id": "bCknbq9aPMrN",
        "outputId": "4ae81a87-1e17-4e60-dcef-ff40551b45d1"
      },
      "execution_count": null,
      "outputs": [
        {
          "output_type": "stream",
          "name": "stdout",
          "text": [
            "La media de los Folds o iteraciones para los 10 valores más altos de precision es: 11.3\n",
            "La media de los valores de k-vecinos para los 10 valores más altos de precision es: 19.5\n"
          ]
        }
      ]
    },
    {
      "cell_type": "markdown",
      "source": [
        "Con Kfold = 10 (10 iteraciones) aumenta el tiempo de procesamiento y tambien aumenta los vecino optimos (a 20), la precisión si mejora pero en un 0.001"
      ],
      "metadata": {
        "id": "47exdCTOqJNL"
      }
    },
    {
      "cell_type": "markdown",
      "source": [
        "![image.png](data:image/png;base64,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)"
      ],
      "metadata": {
        "id": "Q_sa26wLpn9B"
      }
    },
    {
      "cell_type": "code",
      "source": [
        "# Lista para almacenar las puntuaciones de precisión\n",
        "precisions = []\n",
        "#Indicando los vecinos y los iteraciones mejores encontrados en el anterior (19 y 11)\n",
        "knn = KNeighborsClassifier(n_neighbors=19)\n",
        "scores = cross_val_score(knn, X, y, cv=11, scoring='accuracy')\n",
        "precisions.append(scores.mean())\n",
        "\n",
        "print(f'Accuracy: {max(precisions)} ')"
      ],
      "metadata": {
        "colab": {
          "base_uri": "https://localhost:8080/"
        },
        "id": "nj8f_EtxRrIx",
        "outputId": "9390a011-1fd5-4cb1-b2cb-8ac9d804b543"
      },
      "execution_count": null,
      "outputs": [
        {
          "output_type": "stream",
          "name": "stdout",
          "text": [
            "Accuracy: 0.776229213941285 \n"
          ]
        }
      ]
    },
    {
      "cell_type": "markdown",
      "source": [
        "###KNN con una validación bootstrap con 19 vecinos (Encontrados en el anterior)"
      ],
      "metadata": {
        "id": "4ocdGQNqztei"
      }
    },
    {
      "cell_type": "code",
      "source": [
        "from sklearn.metrics import mean_squared_error\n",
        "\n",
        "# Entrenar el modelo con 18  vecinos\n",
        "knn_model = KNeighborsClassifier(n_neighbors=19)\n",
        "knn_model.fit(X_train_bootstrap, y_train_bootstrap)\n",
        "\n",
        "# Predecir en el conjunto de prueba\n",
        "knn_predictions = knn_model.predict(X_test_bootstrap)\n",
        "\n",
        "# Evaluar el modelo\n",
        "accuracy = accuracy_score(y_test_bootstrap, knn_predictions)\n",
        "print(f\"Accuracy of K-Nearest Neighbors (k=19): {accuracy}\")"
      ],
      "metadata": {
        "colab": {
          "base_uri": "https://localhost:8080/"
        },
        "id": "9SSFaeDWwAbK",
        "outputId": "1758accf-cdbb-4661-fe8a-ee7655ae81a4"
      },
      "execution_count": null,
      "outputs": [
        {
          "output_type": "stream",
          "name": "stdout",
          "text": [
            "Accuracy of K-Nearest Neighbors (k=19): 0.7792760823278921\n"
          ]
        }
      ]
    },
    {
      "cell_type": "markdown",
      "source": [
        "## **Feed-Forward Neural Networks**\n"
      ],
      "metadata": {
        "id": "oIeWVswqxWUr"
      }
    },
    {
      "cell_type": "code",
      "source": [
        "!pip install keras"
      ],
      "metadata": {
        "colab": {
          "base_uri": "https://localhost:8080/"
        },
        "id": "ycPG0QQy3BAL",
        "outputId": "ba2eb519-c5bc-4f10-b7ef-d08ecff35218"
      },
      "execution_count": null,
      "outputs": [
        {
          "output_type": "stream",
          "name": "stdout",
          "text": [
            "Requirement already satisfied: keras in /usr/local/lib/python3.10/dist-packages (2.15.0)\n"
          ]
        }
      ]
    },
    {
      "cell_type": "markdown",
      "source": [
        "Utilizando validación cruzada con 10 k folds"
      ],
      "metadata": {
        "id": "e45f9Gv5UnYr"
      }
    },
    {
      "cell_type": "code",
      "source": [
        "import keras\n",
        "from keras.models import Sequential\n",
        "from keras.layers import Dense, Dropout, Activation\n",
        "from keras.metrics import Accuracy\n",
        "import time\n",
        "from sklearn.metrics import accuracy_score,classification_report\n",
        "from keras.utils import to_categorical\n",
        "\n",
        "#Para calcular el costo computacional\n",
        "tiempo_i = time.time()\n",
        "\n",
        "#Complete el código para crear la red neuronal artificial.\n",
        "#Para la configuración de la arquitectura de la red tome como base lo que\n",
        "#se pide en la tabla que encuentra despuéés de esta celda de código.\n",
        "#Recuerde usar la función de activación SoftMax en la capa de salida. Para la capa oculta puede usar\n",
        "#ReLu, tanh o sigmoid; se recomienda ReLu)\n",
        "model = Sequential()\n",
        "model.add(Dense(10, input_dim=X.shape[1], activation='relu'))\n",
        "model.add(Dense(2, activation='relu'))\n",
        "model.add(Dense(1, activation='softmax'))\n",
        "\n",
        "#Implemetamos la metodología de validación cross validation con 10 folds\n",
        "\n",
        "\n",
        "kf = KFold(n_splits=10, shuffle=True)\n",
        "j = 0\n",
        "accuracy_scores = []\n",
        "\n",
        "for train_index, test_index in kf.split(X):\n",
        "\n",
        "    X_train_vc, X_test_vc= X.iloc[train_index],X.iloc[test_index]\n",
        "\n",
        "    # Convertir las etiquetas a una representación one-hot encoding\n",
        "    y_train_vc, y_test_vc = y[train_index], y[test_index]\n",
        "\n",
        "    #Compilar el modelo\n",
        "    #Usar el optimizador Adam\n",
        "    model.compile(optimizer='adam', loss='binary_crossentropy', metrics=['accuracy'])\n",
        "\n",
        "    #Entrenar el modelo\n",
        "    model.fit(X_train_vc, y_train_vc, epochs=10, batch_size=32, verbose=0)\n",
        "\n",
        "    #Validación del modelo\n",
        "    y_pred = model.predict(X_test_vc)\n",
        "\n",
        "    y_pred2 = np.argmax(y_pred, axis=1)\n",
        "    accuracy = accuracy_score(y_test_vc, y_pred2)\n",
        "    accuracy_scores.append(accuracy)\n",
        "    j+=1\n",
        "    print (j)\n",
        "\n",
        "mean_accuracy = np.mean(accuracy_scores)\n",
        "print(f\"Accuracy promedio: {mean_accuracy}\")\n",
        "\n",
        "print (\"\\n\\nTiempo total de ejecución: \" + str(time.time()-tiempo_i)+ \" segundos.\")"
      ],
      "metadata": {
        "colab": {
          "base_uri": "https://localhost:8080/"
        },
        "id": "oza782pVxdz5",
        "outputId": "156a78c2-4c25-49bc-e35b-055dc30c3901"
      },
      "execution_count": null,
      "outputs": [
        {
          "output_type": "stream",
          "name": "stdout",
          "text": [
            "23/23 [==============================] - 0s 3ms/step\n",
            "1\n",
            "23/23 [==============================] - 0s 1ms/step\n",
            "2\n",
            "23/23 [==============================] - 0s 1ms/step\n",
            "3\n",
            "22/22 [==============================] - 0s 3ms/step\n",
            "4\n",
            "22/22 [==============================] - 0s 2ms/step\n",
            "5\n",
            "22/22 [==============================] - 0s 5ms/step\n",
            "6\n",
            "22/22 [==============================] - 0s 2ms/step\n",
            "7\n",
            "22/22 [==============================] - 0s 2ms/step\n",
            "8\n",
            "22/22 [==============================] - 0s 1ms/step\n",
            "9\n",
            "22/22 [==============================] - 0s 1ms/step\n",
            "10\n",
            "Accuracy promedio: 0.7346333010960672\n",
            "\n",
            "\n",
            "Tiempo total de ejecución: 63.123459815979004 segundos.\n"
          ]
        }
      ]
    },
    {
      "cell_type": "code",
      "source": [
        "#Para calcular el costo computacional\n",
        "tiempo_i = time.time()\n",
        "\n",
        "#Complete el código para crear la red neuronal artificial.\n",
        "#Para la configuración de la arquitectura de la red tome como base lo que\n",
        "#se pide en la tabla que encuentra despuéés de esta celda de código.\n",
        "#Recuerde usar la función de activación SoftMax en la capa de salida. Para la capa oculta puede usar\n",
        "#ReLu, tanh o sigmoid; se recomienda ReLu)\n",
        "model = Sequential()\n",
        "model.add(Dense(10, input_dim=X.shape[1], activation='relu'))\n",
        "model.add(Dense(2, activation='relu'))\n",
        "model.add(Dense(1, activation='softmax'))\n",
        "\n",
        "model.compile(optimizer='adam', loss='binary_crossentropy', metrics=['accuracy'])\n",
        "\n",
        "model.fit(X_train_bootstrap, y_train_bootstrap, epochs=10, batch_size=32, verbose=0)\n",
        "\n",
        "    #Validación del modelo\n",
        "y_pred = model.predict(X_test_bootstrap)\n",
        "\n",
        "y_pred2 = np.argmax(y_pred, axis=1)\n",
        "accuracy = accuracy_score(y_test_bootstrap, y_pred2)\n",
        "\n",
        "\n",
        "print(f\"Accuracy promedio: {np.mean(accuracy)}\")\n",
        "\n",
        "print (\"\\n\\nTiempo total de ejecución: \" + str(time.time()-tiempo_i)+ \" segundos.\")"
      ],
      "metadata": {
        "colab": {
          "base_uri": "https://localhost:8080/"
        },
        "id": "keyBAxqrVDSW",
        "outputId": "1ac6824f-ee5f-40f0-dffc-3cb86f352d50"
      },
      "execution_count": null,
      "outputs": [
        {
          "output_type": "stream",
          "name": "stdout",
          "text": [
            "45/45 [==============================] - 0s 1ms/step\n",
            "Accuracy promedio: 0.7352732434350603\n",
            "\n",
            "\n",
            "Tiempo total de ejecución: 6.294052839279175 segundos.\n"
          ]
        }
      ]
    },
    {
      "cell_type": "markdown",
      "source": [
        "## **RANDOM FOREST**"
      ],
      "metadata": {
        "id": "H8X-cRRUm71B"
      }
    },
    {
      "cell_type": "code",
      "source": [
        "import pandas as pd\n",
        "import numpy as np\n",
        "import matplotlib.pyplot as plt\n",
        "from sklearn import datasets\n",
        "from sklearn.model_selection import KFold\n",
        "from sklearn import tree\n",
        "from sklearn.metrics import confusion_matrix\n",
        "from sklearn.tree import DecisionTreeClassifier\n",
        "from sklearn.metrics import accuracy_score"
      ],
      "metadata": {
        "id": "UNcWx3hVtqnr"
      },
      "execution_count": null,
      "outputs": []
    },
    {
      "cell_type": "markdown",
      "source": [
        "Con validación cruzada 10 kfolds y iteracciones de arboles entre 10 a 45"
      ],
      "metadata": {
        "id": "7mLW8Xb3WIGc"
      }
    },
    {
      "cell_type": "code",
      "source": [
        "from sklearn.ensemble import RandomForestClassifier\n",
        "\n",
        "kf = KFold(n_splits=10)\n",
        "#Se realiza un for con cantidad de arboles empieza desde 10 hasta 45 de a 5\n",
        "for B in range(10,50,5):\n",
        "\n",
        "    Errores = np.zeros(10)\n",
        "    j = 0\n",
        "    #Aplicando la metodología de validación\n",
        "\n",
        "    for train_index, test_index in kf.split(X):\n",
        "\n",
        "        X_train_vc, X_test_vc = X.iloc[train_index], X.iloc[test_index]\n",
        "        y_train_vc, y_test_vc = y[train_index], y[test_index]\n",
        "\n",
        "        #para clasificar y entrenandolo solo con las muestras de entrenamiento\n",
        "\n",
        "        clf = RandomForestClassifier(n_estimators=B)\n",
        "        clf.fit(X_train_vc, y_train_vc)\n",
        "\n",
        "        #Complete el código aquí prediciendo la clase para las muestras de validación de la base de datos\n",
        "        Y_est = clf.predict(X_test_vc)\n",
        "\n",
        "        Errores[j] = accuracy_score(Y_est, y_test_vc)\n",
        "        j += 1\n",
        "\n",
        "    print('\\nResultado de clasificación con ', B, 'árboles:')\n",
        "    print (\"accuracy: \" + str(np.mean(Errores)))"
      ],
      "metadata": {
        "colab": {
          "base_uri": "https://localhost:8080/"
        },
        "id": "76qUV3g6uZ8h",
        "outputId": "d831d079-069f-40a1-8b5f-cfc128afe1a6"
      },
      "execution_count": null,
      "outputs": [
        {
          "output_type": "stream",
          "name": "stdout",
          "text": [
            "\n",
            "Resultado de clasificación con  10 árboles:\n",
            "accuracy: 0.7846097275951\n",
            "\n",
            "Resultado de clasificación con  15 árboles:\n",
            "accuracy: 0.7810602030947776\n",
            "\n",
            "Resultado de clasificación con  20 árboles:\n",
            "accuracy: 0.7887272324306899\n",
            "\n",
            "Resultado de clasificación con  25 árboles:\n",
            "accuracy: 0.7861698098001291\n",
            "\n",
            "Resultado de clasificación con  30 árboles:\n",
            "accuracy: 0.7929835589941974\n",
            "\n",
            "Resultado de clasificación con  35 árboles:\n",
            "accuracy: 0.7941209300451322\n",
            "\n",
            "Resultado de clasificación con  40 árboles:\n",
            "accuracy: 0.7961075515796261\n",
            "\n",
            "Resultado de clasificación con  45 árboles:\n",
            "accuracy: 0.793126611863314\n"
          ]
        }
      ]
    },
    {
      "cell_type": "markdown",
      "source": [
        "Con validación Bootstrap"
      ],
      "metadata": {
        "id": "HS4-u7E3eRH5"
      }
    },
    {
      "cell_type": "code",
      "source": [
        "kf = KFold(n_splits=10)\n",
        "#Se realiza un for con cantidad de arboles empieza desde 10 hasta 45 de a 5\n",
        "for B in range(10,50,5):\n",
        "        #para clasificar y entrenandolo solo con las muestras de entrenamiento\n",
        "\n",
        "  clf = RandomForestClassifier(n_estimators=B)\n",
        "  clf.fit(X_train_bootstrap, y_train_bootstrap)\n",
        "\n",
        "        #Complete el código aquí prediciendo la clase para las muestras de validación de la base de datos\n",
        "  Y_est = clf.predict(X_test_bootstrap)\n",
        "\n",
        "  print('\\nResultado de clasificación con ', B, 'árboles:')\n",
        "  print (\"accuracy: \" + str(np.mean(accuracy_score(Y_est, y_test_bootstrap))))"
      ],
      "metadata": {
        "colab": {
          "base_uri": "https://localhost:8080/"
        },
        "id": "Q0aXApbFW6XC",
        "outputId": "2b5fd29c-a1c0-43ab-ffeb-0748e08525af"
      },
      "execution_count": null,
      "outputs": [
        {
          "output_type": "stream",
          "name": "stdout",
          "text": [
            "\n",
            "Resultado de clasificación con  10 árboles:\n",
            "accuracy: 0.7927608232789212\n",
            "\n",
            "Resultado de clasificación con  15 árboles:\n",
            "accuracy: 0.7877927608232789\n",
            "\n",
            "Resultado de clasificación con  20 árboles:\n",
            "accuracy: 0.7906316536550745\n",
            "\n",
            "Resultado de clasificación con  25 árboles:\n",
            "accuracy: 0.8026969481902059\n",
            "\n",
            "Resultado de clasificación con  30 árboles:\n",
            "accuracy: 0.801277501774308\n",
            "\n",
            "Resultado de clasificación con  35 árboles:\n",
            "accuracy: 0.8019872249822569\n",
            "\n",
            "Resultado de clasificación con  40 árboles:\n",
            "accuracy: 0.7984386089425124\n",
            "\n",
            "Resultado de clasificación con  45 árboles:\n",
            "accuracy: 0.794180269694819\n"
          ]
        }
      ]
    },
    {
      "cell_type": "markdown",
      "source": [
        "## **Modelo de Máquinas de Vectores de Soporte (Support Vector Machines - SVM):**"
      ],
      "metadata": {
        "id": "U3Zr_0NTfORY"
      }
    },
    {
      "cell_type": "markdown",
      "source": [
        "Utilizando validación cruzada"
      ],
      "metadata": {
        "id": "z_TlnJq8eZLq"
      }
    },
    {
      "cell_type": "code",
      "source": [
        "C = 1\n",
        "gamma = 0.1\n",
        "kernel = 'poly'\n",
        "\n",
        "# Inicializar el modelo SVM con los parámetros\n",
        "svm_model = SVC(decision_function_shape='ovr',C=C, gamma=gamma, kernel=kernel)\n",
        "\n",
        "# Modelo SVM\n",
        "print(\"\\nSupport Vector Machines (SVM) Metrics:\")\n",
        "# Validación cruzada de k-fold (k=5)\n",
        "k_fold = StratifiedKFold(n_splits=10, shuffle=True, random_state=42)\n",
        "\n",
        "# Calcular el rendimiento mediante validación cruzada\n",
        "cross_val_scores = cross_val_score(svm_model, X, y, cv=k_fold, scoring='accuracy')\n",
        "\n",
        "# Imprimir resultados de validación cruzada\n",
        "\n",
        "print(f\"\\nResultados de Validación Cruzada (Accuracy): {cross_val_scores}\")\n",
        "print(f\"Accuracy Promedio: {cross_val_scores.mean():.4f}\")\n",
        "print(f\"Desviación Estándar: {cross_val_scores.std():.4f}\")"
      ],
      "metadata": {
        "colab": {
          "base_uri": "https://localhost:8080/"
        },
        "id": "aLBZNzntfs1D",
        "outputId": "b7d96781-7aa4-4756-e0ef-375094fba003"
      },
      "execution_count": null,
      "outputs": [
        {
          "output_type": "stream",
          "name": "stdout",
          "text": [
            "\n",
            "Support Vector Machines (SVM) Metrics:\n",
            "\n",
            "Resultados de Validación Cruzada (Accuracy): [0.7787234  0.78297872 0.77163121 0.76278409 0.765625   0.79545455\n",
            " 0.72443182 0.77698864 0.76278409 0.75284091]\n",
            "Accuracy Promedio: 0.7674\n",
            "Desviación Estándar: 0.0184\n"
          ]
        }
      ]
    },
    {
      "cell_type": "markdown",
      "source": [
        "Utilizando Bootstrap"
      ],
      "metadata": {
        "id": "mp7msKrJYHx1"
      }
    },
    {
      "cell_type": "code",
      "source": [
        "from sklearn.svm import SVC\n",
        "\n",
        "C = 1\n",
        "gamma = 0.1\n",
        "kernel = 'poly'\n",
        "\n",
        "# Inicializar el modelo SVM con los parámetros\n",
        "svm_model = SVC(decision_function_shape='ovr',C=C, gamma=gamma, kernel=kernel)\n",
        "\n",
        "svm_model.fit(X_train_bootstrap, y_train_bootstrap)\n",
        "\n",
        "# Evaluar el modelo\n",
        "svm_accuracy = svm_model.score(X_test_bootstrap, y_test_bootstrap)\n",
        "print(f\"Accuracy of Support Vector Machines: {svm_accuracy}\")"
      ],
      "metadata": {
        "colab": {
          "base_uri": "https://localhost:8080/"
        },
        "id": "Cbab2GjCfNcl",
        "outputId": "165aa21a-b861-46e9-82ef-a1c7b2f7c901"
      },
      "execution_count": null,
      "outputs": [
        {
          "output_type": "stream",
          "name": "stdout",
          "text": [
            "Accuracy of Support Vector Machines: 0.7892122072391767\n"
          ]
        }
      ]
    }
  ]
}